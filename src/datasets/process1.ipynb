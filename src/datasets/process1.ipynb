{
 "cells": [
  {
   "cell_type": "code",
   "execution_count": 5,
   "id": "78012c09",
   "metadata": {},
   "outputs": [
    {
     "name": "stderr",
     "output_type": "stream",
     "text": [
      "Found cached dataset glue (/home/trs/.cache/huggingface/datasets/glue/mrpc/1.0.0/dacbe3125aa31d7f70367a07a8a9e72a5a0bfeb5fc42e75c9db75b96da6053ad)\n"
     ]
    }
   ],
   "source": [
    "#Datasets 提供了许多工具来修改数据集的结构和内容。 这些工具对于整理数据集、创建附加列、在特征和格式之间进行转换等非常重要。\n",
    "#本指南中的示例使用 MRPC 数据集，但您可以随意加载您选择的任何数据集并继续操作！\n",
    "from datasets import load_dataset\n",
    "dataset = load_dataset(\"glue\", \"mrpc\", split=\"train\")"
   ]
  },
  {
   "cell_type": "code",
   "execution_count": 3,
   "id": "4b7dd8bf",
   "metadata": {},
   "outputs": [
    {
     "data": {
      "text/plain": [
       "[1, 0, 1, 0, 1, 1, 0, 1, 0, 0]"
      ]
     },
     "execution_count": 3,
     "metadata": {},
     "output_type": "execute_result"
    }
   ],
   "source": [
    "#使用 sort() 根据数值对列值进行排序。 提供的列必须与 NumPy 兼容\n",
    "dataset[\"label\"][:10]"
   ]
  },
  {
   "cell_type": "code",
   "execution_count": 7,
   "id": "4c430bdb",
   "metadata": {
    "collapsed": true
   },
   "outputs": [
    {
     "name": "stderr",
     "output_type": "stream",
     "text": [
      "Loading cached sorted indices for dataset at /home/trs/.cache/huggingface/datasets/glue/mrpc/1.0.0/dacbe3125aa31d7f70367a07a8a9e72a5a0bfeb5fc42e75c9db75b96da6053ad/cache-c88b0988174eb7f6.arrow\n"
     ]
    },
    {
     "data": {
      "text/plain": [
       "[0, 0, 0, 0, 0, 0, 0, 0, 0, 0]"
      ]
     },
     "execution_count": 7,
     "metadata": {},
     "output_type": "execute_result"
    }
   ],
   "source": [
    "sorted_dataset = dataset.sort(\"label\")\n",
    "sorted_dataset[\"label\"][:10]"
   ]
  },
  {
   "cell_type": "code",
   "execution_count": 8,
   "id": "3ab0a679",
   "metadata": {},
   "outputs": [
    {
     "data": {
      "text/plain": [
       "[1, 1, 1, 0, 1, 1, 1, 1, 1, 0]"
      ]
     },
     "execution_count": 8,
     "metadata": {},
     "output_type": "execute_result"
    }
   ],
   "source": [
    "#shuffle() 函数随机重新排列列值。 \n",
    "#如果您想更好地控制用于随机播放数据集的算法，您可以在此函数中指定生成器参数以使用不同的 numpy.random.Generator。\n",
    "shuffled_dataset = sorted_dataset.shuffle(seed=42)\n",
    "shuffled_dataset[\"label\"][:10]"
   ]
  },
  {
   "cell_type": "code",
   "execution_count": null,
   "id": "023c5ab4",
   "metadata": {},
   "outputs": [],
   "source": [
    "#有两个选项可用于过滤数据集中的行：select() 和 filter()。\n",
    "small_dataset = dataset.select([0, 10, 20, 30, 40, 50])\n",
    "len(small_dataset)"
   ]
  },
  {
   "cell_type": "code",
   "execution_count": 9,
   "id": "27e1625c",
   "metadata": {
    "collapsed": true
   },
   "outputs": [
    {
     "data": {
      "application/vnd.jupyter.widget-view+json": {
       "model_id": "a7b6285c83cb43169f2ba9e3e2cd1c05",
       "version_major": 2,
       "version_minor": 0
      },
      "text/plain": [
       "  0%|          | 0/4 [00:00<?, ?ba/s]"
      ]
     },
     "metadata": {},
     "output_type": "display_data"
    },
    {
     "data": {
      "text/plain": [
       "['Around 0335 GMT , Tab shares were up 19 cents , or 4.4 % , at A $ 4.56 , having earlier set a record high of A $ 4.57 .',\n",
       " 'Arison said Mann may have been one of the pioneers of the world music movement and he had a deep love of Brazilian music .',\n",
       " 'Arts helped coach the youth on an eighth-grade football team at Lombardi Middle School in Green Bay .',\n",
       " 'Around 9 : 00 a.m. EDT ( 1300 GMT ) , the euro was at $ 1.1566 against the dollar , up 0.07 percent on the day .',\n",
       " \"Arguing that the case was an isolated example , Canada has threatened a trade backlash if Tokyo 's ban is not justified on scientific grounds .\",\n",
       " 'Artists are worried the plan would harm those who need help most - performers who have a difficult time lining up shows .']"
      ]
     },
     "execution_count": 9,
     "metadata": {},
     "output_type": "execute_result"
    }
   ],
   "source": [
    "start_with_ar = dataset.filter(lambda example: example[\"sentence1\"].startswith(\"Ar\"))\n",
    "len(start_with_ar)\n",
    "start_with_ar[\"sentence1\"]"
   ]
  },
  {
   "cell_type": "code",
   "execution_count": 10,
   "id": "001cb445",
   "metadata": {},
   "outputs": [
    {
     "data": {
      "text/plain": [
       "366.8"
      ]
     },
     "execution_count": 10,
     "metadata": {},
     "output_type": "execute_result"
    }
   ],
   "source": [
    "#如果您的数据集还没有，train_test_split() 函数会创建训练和测试拆分。 \n",
    "#这允许您调整每个拆分中的相对比例或绝对样本数。 在下面的示例中，使用 test_size 参数创建一个占原始数据集 10% 的测试拆分：\n",
    "dataset.train_test_split(test_size=0.1)\n",
    "0.1 * len(dataset)"
   ]
  }
 ],
 "metadata": {
  "kernelspec": {
   "display_name": "Python 3 (ipykernel)",
   "language": "python",
   "name": "python3"
  },
  "language_info": {
   "codemirror_mode": {
    "name": "ipython",
    "version": 3
   },
   "file_extension": ".py",
   "mimetype": "text/x-python",
   "name": "python",
   "nbconvert_exporter": "python",
   "pygments_lexer": "ipython3",
   "version": "3.8.10"
  }
 },
 "nbformat": 4,
 "nbformat_minor": 5
}
