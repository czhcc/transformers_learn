{
 "cells": [
  {
   "cell_type": "markdown",
   "id": "9e5056ee",
   "metadata": {},
   "source": [
    "使用google/flan-t5-small测试"
   ]
  },
  {
   "cell_type": "code",
   "execution_count": 9,
   "id": "b84fccf9",
   "metadata": {},
   "outputs": [
    {
     "name": "stdout",
     "output_type": "stream",
     "text": [
      "['He has 5 + 2 = 6 tennis balls. He has 6 + 3 = 6 tennis balls']\n"
     ]
    }
   ],
   "source": [
    "from transformers import AutoModelForSeq2SeqLM, AutoTokenizer\n",
    "\n",
    "model = AutoModelForSeq2SeqLM.from_pretrained(\"google/flan-t5-small\")\n",
    "tokenizer = AutoTokenizer.from_pretrained(\"google/flan-t5-small\")\n",
    "\n",
    "inputs = tokenizer(\"Roger has 5 tennis balls. He buys 2 more cans of tennis balls. Each can has 3 tennis balls. How many tennis balls does he have now?\", return_tensors=\"pt\")\n",
    "outputs = model.generate(**inputs)\n",
    "print(tokenizer.batch_decode(outputs, skip_special_tokens=True))"
   ]
  },
  {
   "cell_type": "markdown",
   "id": "08626e7c",
   "metadata": {},
   "source": [
    "使用google/flan-t5-xxl 测试"
   ]
  },
  {
   "cell_type": "code",
   "execution_count": 11,
   "id": "8f28c39f",
   "metadata": {},
   "outputs": [
    {
     "data": {
      "application/vnd.jupyter.widget-view+json": {
       "model_id": "271f7bf1663e482aa5644ea34001ac22",
       "version_major": 2,
       "version_minor": 0
      },
      "text/plain": [
       "Loading checkpoint shards:   0%|          | 0/5 [00:00<?, ?it/s]"
      ]
     },
     "metadata": {},
     "output_type": "display_data"
    },
    {
     "name": "stdout",
     "output_type": "stream",
     "text": [
      "<pad> 96</s>\n"
     ]
    }
   ],
   "source": [
    "# 需要先 pip install accelerate\n",
    "from transformers import T5Tokenizer, T5ForConditionalGeneration\n",
    "\n",
    "tokenizer = T5Tokenizer.from_pretrained(\"google/flan-t5-xxl\")\n",
    "model = T5ForConditionalGeneration.from_pretrained(\"google/flan-t5-xxl\", device_map=\"auto\")"
   ]
  },
  {
   "cell_type": "markdown",
   "id": "76ff36f1",
   "metadata": {},
   "source": [
    "<font color=\"red\"> 上面这段代码先执行一次，把模型加载到内存，否则加载一次太慢 </font>"
   ]
  },
  {
   "cell_type": "code",
   "execution_count": 35,
   "id": "72923ed8",
   "metadata": {},
   "outputs": [
    {
     "name": "stdout",
     "output_type": "stream",
     "text": [
      "[\"The world's first big data company\"]\n"
     ]
    }
   ],
   "source": [
    "#input_text = \"translate English to German: How old are you?\"\n",
    "#input_text = \"Natalia sold clips to 48 of her friends in April, and then she sold half as many clips in May. How many clips did Natalia sell altogether in April and May?\"\n",
    "# 下面这个计算结果是错的 ChatGPT的回答是：Roger has 11 tennis balls now.\n",
    "#input_text = \"Roger has 5 tennis balls. He buys 2 more cans of tennis balls. Each can has 3 tennis balls. How many tennis balls does he have now?\"\n",
    "#input_text = \"Q:The square root of x is the cube root of y. What is y to the power of 2, if x = 4?\"\n",
    "#input_text = \"Answer the following yes/no question by reasoning step-by-step. Can you write a whole Haiku in a single tweet?\"\n",
    "input_text = \"Can you write the slogan for TRS Big Data Company?\"\n",
    "\n",
    "#input_text = \"Can Geoffrey Hinton have a conversation with George Washington? Give the rationale before answering\"\n",
    "#input_text = \"5 plus 4 is equal to?\"\n",
    "#input_text = \"Alex has 3 apples. Nick has 2. Lily ate all of them. How many apples did Lily eat?\"\n",
    "#input_text = \"Answer the following question by reasoning step-by-step. The cafeteria had 23 apples.If they used 20 for lunch and bought 6 more,how many apples do they have?\"\n",
    "input_ids = tokenizer(input_text, return_tensors=\"pt\").input_ids.to(\"cuda\")\n",
    "\n",
    "outputs = model.generate(input_ids, max_length=512) # max_length可以输出完整回答，否则截取了\n",
    "#print(tokenizer.decode(outputs[0]))\n",
    "print(tokenizer.batch_decode(outputs, skip_special_tokens=True))"
   ]
  }
 ],
 "metadata": {
  "kernelspec": {
   "display_name": "Python 3 (ipykernel)",
   "language": "python",
   "name": "python3"
  },
  "language_info": {
   "codemirror_mode": {
    "name": "ipython",
    "version": 3
   },
   "file_extension": ".py",
   "mimetype": "text/x-python",
   "name": "python",
   "nbconvert_exporter": "python",
   "pygments_lexer": "ipython3",
   "version": "3.8.10"
  }
 },
 "nbformat": 4,
 "nbformat_minor": 5
}
