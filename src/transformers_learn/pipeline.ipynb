{
 "cells": [
  {
   "cell_type": "code",
   "execution_count": 1,
   "id": "ca24782a",
   "metadata": {
    "collapsed": true
   },
   "outputs": [
    {
     "name": "stderr",
     "output_type": "stream",
     "text": [
      "/usr/lib/python3/dist-packages/requests/__init__.py:89: RequestsDependencyWarning: urllib3 (1.26.14) or chardet (3.0.4) doesn't match a supported version!\n",
      "  warnings.warn(\"urllib3 ({}) or chardet ({}) doesn't match a supported \"\n",
      "Some weights of the model checkpoint at bert-base-uncased were not used when initializing BertForMaskedLM: ['cls.seq_relationship.weight', 'cls.seq_relationship.bias']\n",
      "- This IS expected if you are initializing BertForMaskedLM from the checkpoint of a model trained on another task or with another architecture (e.g. initializing a BertForSequenceClassification model from a BertForPreTraining model).\n",
      "- This IS NOT expected if you are initializing BertForMaskedLM from the checkpoint of a model that you expect to be exactly identical (initializing a BertForSequenceClassification model from a BertForSequenceClassification model).\n"
     ]
    },
    {
     "data": {
      "text/plain": [
       "[{'score': 0.10933295637369156,\n",
       "  'token': 2166,\n",
       "  'token_str': 'life',\n",
       "  'sequence': 'the goal of life is life.'},\n",
       " {'score': 0.039418913424015045,\n",
       "  'token': 7691,\n",
       "  'token_str': 'survival',\n",
       "  'sequence': 'the goal of life is survival.'},\n",
       " {'score': 0.03293061628937721,\n",
       "  'token': 2293,\n",
       "  'token_str': 'love',\n",
       "  'sequence': 'the goal of life is love.'},\n",
       " {'score': 0.030096126720309258,\n",
       "  'token': 4071,\n",
       "  'token_str': 'freedom',\n",
       "  'sequence': 'the goal of life is freedom.'},\n",
       " {'score': 0.024967143312096596,\n",
       "  'token': 17839,\n",
       "  'token_str': 'simplicity',\n",
       "  'sequence': 'the goal of life is simplicity.'}]"
      ]
     },
     "execution_count": 1,
     "metadata": {},
     "output_type": "execute_result"
    }
   ],
   "source": [
    "from transformers import pipeline\n",
    "# 运行该段代码要保障你的电脑能够上网，会自动下载预训练模型，大概420M\n",
    "unmasker = pipeline(\"fill-mask\",model = \"bert-base-uncased\")  # 这里引入了一个任务叫fill-mask，该任务使用了base的bert模型\n",
    "unmasker(\"The goal of life is [MASK].\", top_k=5) # 输出mask的指，对应排名最前面的5个，也可以设置其他数字\n",
    "# 输出结果如下，似乎都不怎么有效哈。"
   ]
  },
  {
   "cell_type": "code",
   "execution_count": 2,
   "id": "9b77f3b4",
   "metadata": {},
   "outputs": [
    {
     "data": {
      "text/plain": [
       "<transformers.pipelines.fill_mask.FillMaskPipeline at 0x7f47e84088e0>"
      ]
     },
     "execution_count": 2,
     "metadata": {},
     "output_type": "execute_result"
    }
   ],
   "source": [
    "unmasker.model."
   ]
  }
 ],
 "metadata": {
  "kernelspec": {
   "display_name": "Python 3 (ipykernel)",
   "language": "python",
   "name": "python3"
  },
  "language_info": {
   "codemirror_mode": {
    "name": "ipython",
    "version": 3
   },
   "file_extension": ".py",
   "mimetype": "text/x-python",
   "name": "python",
   "nbconvert_exporter": "python",
   "pygments_lexer": "ipython3",
   "version": "3.8.10"
  }
 },
 "nbformat": 4,
 "nbformat_minor": 5
}
