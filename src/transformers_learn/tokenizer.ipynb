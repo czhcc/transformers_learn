{
 "cells": [
  {
   "attachments": {
    "image-3.png": {
     "image/png": "[encoded data removed]"
    }
   },
   "cell_type": "markdown",
   "id": "924ae28e",
   "metadata": {},
   "source": [
    "标记器(Tokenizer)是 NLP 管道的核心组件之一。它们有一个目的：将文本转换为模型可以处理的数据。模型只能处理数字，因此标记器(Tokenizer)需要将我们的文本输入转换为数字数据。\n",
    "<br/>\n",
    "子词分词算法依赖于这样一个原则，即不应将常用词拆分为更小的子词，而应将稀有词分解为有意义的子词。\n",
    "<br/>\n",
    "这是一个示例，展示了子词标记化算法如何标记序列“Let’s do tokenization!”：\n",
    "![image-3.png](attachment:image-3.png)\n",
    "这些子词最终提供了很多语义含义：例如，在上面的示例中，“tokenization”被拆分为“token”和“ization”，这两个具有语义意义同时节省空间的词符(token)（只需要两个标记(token)代表一个长词）。\n",
    "\n",
    "#### 加载和保存\n",
    "加载和保存标记器(tokenizer)就像使用模型一样简单。实际上，它基于相同的两种方法： from_pretrained() 和 save_pretrained() 。"
   ]
  },
  {
   "cell_type": "code",
   "execution_count": 1,
   "id": "bffe69de",
   "metadata": {},
   "outputs": [
    {
     "name": "stderr",
     "output_type": "stream",
     "text": [
      "/usr/lib/python3/dist-packages/requests/__init__.py:89: RequestsDependencyWarning: urllib3 (1.26.14) or chardet (3.0.4) doesn't match a supported version!\n",
      "  warnings.warn(\"urllib3 ({}) or chardet ({}) doesn't match a supported \"\n"
     ]
    }
   ],
   "source": [
    "from transformers import BertTokenizer\n",
    "\n",
    "tokenizer = BertTokenizer.from_pretrained(\"bert-base-cased\")"
   ]
  },
  {
   "cell_type": "markdown",
   "id": "4e80ddf7",
   "metadata": {},
   "source": [
    "现在可以使用标记器(tokenizer)"
   ]
  },
  {
   "cell_type": "code",
   "execution_count": 2,
   "id": "2a7ede7f",
   "metadata": {},
   "outputs": [
    {
     "name": "stdout",
     "output_type": "stream",
     "text": [
      "{'input_ids': [101, 7993, 170, 13809, 23763, 2443, 1110, 3014, 102], 'token_type_ids': [0, 0, 0, 0, 0, 0, 0, 0, 0], 'attention_mask': [1, 1, 1, 1, 1, 1, 1, 1, 1]}\n"
     ]
    }
   ],
   "source": [
    "sequence = \"Using a Transformer network is simple\"\n",
    "tokens = tokenizer(sequence)\n",
    "print(tokens)"
   ]
  },
  {
   "cell_type": "markdown",
   "id": "f81dfff5",
   "metadata": {},
   "source": [
    "对于多句："
   ]
  },
  {
   "cell_type": "code",
   "execution_count": 6,
   "id": "e8d14657",
   "metadata": {},
   "outputs": [
    {
     "name": "stdout",
     "output_type": "stream",
     "text": [
      "{'input_ids': [101, 1706, 6378, 4404, 3087, 1110, 170, 4160, 4579, 1104, 21239, 2101, 119, 102, 7993, 170, 13809, 23763, 2443, 1110, 3014, 102], 'token_type_ids': [0, 0, 0, 0, 0, 0, 0, 0, 0, 0, 0, 0, 0, 0, 1, 1, 1, 1, 1, 1, 1, 1], 'attention_mask': [1, 1, 1, 1, 1, 1, 1, 1, 1, 1, 1, 1, 1, 1, 1, 1, 1, 1, 1, 1, 1, 1]}\n"
     ]
    }
   ],
   "source": [
    "text = \"Tokenizing text is a core task of NLP.\"\n",
    "tokens = tokenizer(text,sequence)\n",
    "print(tokens)"
   ]
  },
  {
   "cell_type": "markdown",
   "id": "7adfe68c",
   "metadata": {},
   "source": [
    "#### 标记化\n",
    "这个标记器(tokenizer)是一个子词标记器(tokenizer)：它对词进行拆分，直到获得可以用其词汇表表示的标记(token)。transformer 就是这种情况，它分为两个标记：transform 和 ##er。"
   ]
  },
  {
   "cell_type": "code",
   "execution_count": 7,
   "id": "1d2cb3a1",
   "metadata": {},
   "outputs": [
    {
     "name": "stdout",
     "output_type": "stream",
     "text": [
      "['Using', 'a', 'Trans', '##former', 'network', 'is', 'simple']\n"
     ]
    }
   ],
   "source": [
    "tokens = tokenizer.tokenize(sequence)\n",
    "\n",
    "print(tokens)"
   ]
  },
  {
   "cell_type": "markdown",
   "id": "cc5f7fe7",
   "metadata": {},
   "source": [
    "#### 从词符(token)到输入 ID\n",
    "注意：这些id只是子词标记的id，不带模型处理需要的其它标记，如果直接把这组id传给模型会出错。"
   ]
  },
  {
   "cell_type": "code",
   "execution_count": 8,
   "id": "e8d5416b",
   "metadata": {},
   "outputs": [
    {
     "name": "stdout",
     "output_type": "stream",
     "text": [
      "[7993, 170, 13809, 23763, 2443, 1110, 3014]\n"
     ]
    }
   ],
   "source": [
    "ids = tokenizer.convert_tokens_to_ids(tokens)\n",
    "\n",
    "print(ids)"
   ]
  },
  {
   "cell_type": "markdown",
   "id": "2c40fa8d",
   "metadata": {},
   "source": [
    "#### 编码"
   ]
  },
  {
   "cell_type": "code",
   "execution_count": 5,
   "id": "cebfc577",
   "metadata": {},
   "outputs": [
    {
     "name": "stdout",
     "output_type": "stream",
     "text": [
      "[101, 7993, 170, 13809, 23763, 2443, 1110, 3014, 102]\n"
     ]
    }
   ],
   "source": [
    "encode_string = tokenizer.encode(sequence)\n",
    "print(encode_string)"
   ]
  },
  {
   "cell_type": "markdown",
   "id": "fd448924",
   "metadata": {},
   "source": [
    "#### 解码"
   ]
  },
  {
   "cell_type": "code",
   "execution_count": 6,
   "id": "8357c6ff",
   "metadata": {},
   "outputs": [
    {
     "name": "stdout",
     "output_type": "stream",
     "text": [
      "[CLS] Using a Transformer network is simple [SEP]\n"
     ]
    }
   ],
   "source": [
    "decoded_string = tokenizer.decode([101, 7993, 170, 13809, 23763, 2443, 1110, 3014, 102])\n",
    "print(decoded_string)"
   ]
  },
  {
   "cell_type": "markdown",
   "id": "1aba3356",
   "metadata": {},
   "source": [
    "下面是模型计算需要的id，可以看到在数组两头增加了特定数字"
   ]
  },
  {
   "cell_type": "code",
   "execution_count": 19,
   "id": "cb4e447f",
   "metadata": {},
   "outputs": [
    {
     "name": "stdout",
     "output_type": "stream",
     "text": [
      "[101, 7993, 170, 13809, 23763, 2443, 1110, 3014, 102]\n"
     ]
    }
   ],
   "source": [
    "tokenized_inputs = tokenizer(sequence)\n",
    "print(tokenized_inputs.input_ids)"
   ]
  },
  {
   "cell_type": "markdown",
   "id": "16448952",
   "metadata": {},
   "source": [
    "可以将这些数字转为子词，看一下是什么："
   ]
  },
  {
   "cell_type": "code",
   "execution_count": 17,
   "id": "abbc7694",
   "metadata": {},
   "outputs": [
    {
     "name": "stdout",
     "output_type": "stream",
     "text": [
      "['[CLS]', 'Using', 'a', 'Trans', '##former', 'network', 'is', 'simple', '[SEP]']\n"
     ]
    }
   ],
   "source": [
    "tokenized_inputs = tokenizer(sequence)\n",
    "tokens = tokenizer.convert_ids_to_tokens(tokenized_inputs.input_ids) \n",
    "print(tokens)"
   ]
  },
  {
   "cell_type": "code",
   "execution_count": 20,
   "id": "fe9a3942",
   "metadata": {},
   "outputs": [
    {
     "name": "stdout",
     "output_type": "stream",
     "text": [
      "[CLS] Using a Transformer network is simple [SEP]\n"
     ]
    }
   ],
   "source": [
    "print(tokenizer.convert_tokens_to_string(tokens)) "
   ]
  },
  {
   "cell_type": "markdown",
   "id": "c7f578c7",
   "metadata": {},
   "source": [
    "检查词汇量的大小"
   ]
  },
  {
   "cell_type": "code",
   "execution_count": 21,
   "id": "6300eb5c",
   "metadata": {},
   "outputs": [
    {
     "data": {
      "text/plain": [
       "28996"
      ]
     },
     "execution_count": 21,
     "metadata": {},
     "output_type": "execute_result"
    }
   ],
   "source": [
    "tokenizer.vocab_size"
   ]
  },
  {
   "cell_type": "markdown",
   "id": "60e4f1e6",
   "metadata": {},
   "source": [
    "相应模型的最大上下文大小"
   ]
  },
  {
   "cell_type": "code",
   "execution_count": 22,
   "id": "0c83cc84",
   "metadata": {},
   "outputs": [
    {
     "data": {
      "text/plain": [
       "512"
      ]
     },
     "execution_count": 22,
     "metadata": {},
     "output_type": "execute_result"
    }
   ],
   "source": [
    "tokenizer.model_max_length"
   ]
  },
  {
   "cell_type": "markdown",
   "id": "1ac3b9fe",
   "metadata": {},
   "source": [
    "模型在其前向传递中期望的字段的名称"
   ]
  },
  {
   "cell_type": "code",
   "execution_count": 23,
   "id": "2b3445d9",
   "metadata": {},
   "outputs": [
    {
     "data": {
      "text/plain": [
       "['input_ids', 'token_type_ids', 'attention_mask']"
      ]
     },
     "execution_count": 23,
     "metadata": {},
     "output_type": "execute_result"
    }
   ],
   "source": [
    "tokenizer.model_input_names"
   ]
  }
 ],
 "metadata": {
  "kernelspec": {
   "display_name": "Python 3 (ipykernel)",
   "language": "python",
   "name": "python3"
  },
  "language_info": {
   "codemirror_mode": {
    "name": "ipython",
    "version": 3
   },
   "file_extension": ".py",
   "mimetype": "text/x-python",
   "name": "python",
   "nbconvert_exporter": "python",
   "pygments_lexer": "ipython3",
   "version": "3.8.10"
  }
 },
 "nbformat": 4,
 "nbformat_minor": 5
}
